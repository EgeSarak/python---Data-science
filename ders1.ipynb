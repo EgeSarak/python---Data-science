{
 "cells": [
  {
   "cell_type": "code",
   "execution_count": 1,
   "metadata": {},
   "outputs": [],
   "source": [
    "import pandas as pd\n",
    "df=pd.read_csv(\"kc_house_data.csv\")"
   ]
  },
  {
   "cell_type": "code",
   "execution_count": 2,
   "metadata": {},
   "outputs": [],
   "source": [
    "import matplotlib.pyplot as plt"
   ]
  },
  {
   "cell_type": "code",
   "execution_count": 3,
   "metadata": {},
   "outputs": [
    {
     "data": {
      "text/plain": [
       "Index(['id', 'date', 'price', 'bedrooms', 'bathrooms', 'sqft_living',\n",
       "       'sqft_lot', 'floors', 'waterfront', 'view', 'condition', 'grade',\n",
       "       'sqft_above', 'sqft_basement', 'yr_built', 'yr_renovated', 'zipcode',\n",
       "       'lat', 'long', 'sqft_living15', 'sqft_lot15'],\n",
       "      dtype='object')"
      ]
     },
     "execution_count": 3,
     "metadata": {},
     "output_type": "execute_result"
    }
   ],
   "source": [
    "df.columns"
   ]
  },
  {
   "cell_type": "code",
   "execution_count": 4,
   "metadata": {},
   "outputs": [
    {
     "name": "stdout",
     "output_type": "stream",
     "text": [
      "INFO 321950.0,450000.0,645000.0,484575.0,1129575.0\n",
      "OUTLİERS 1\n",
      "               id             date      price  bedrooms  bathrooms  \\\n",
      "5      7237550310  20140512T000000  1225000.0         4       4.50   \n",
      "21     2524049179  20140826T000000  2000000.0         3       2.75   \n",
      "49      822039084  20150311T000000  1350000.0         3       2.50   \n",
      "69     1802000060  20140612T000000  1325000.0         5       2.25   \n",
      "125    4389200955  20150302T000000  1450000.0         4       2.75   \n",
      "...           ...              ...        ...       ...        ...   \n",
      "21568   524059330  20150130T000000  1700000.0         4       3.50   \n",
      "21576  9253900271  20150107T000000  3567000.0         5       4.50   \n",
      "21590  7430200100  20140514T000000  1222500.0         4       3.50   \n",
      "21597   191100405  20150421T000000  1575000.0         4       3.25   \n",
      "21600   249000205  20141015T000000  1537000.0         5       3.75   \n",
      "\n",
      "       sqft_living  sqft_lot  floors  waterfront  view  ...  grade  \\\n",
      "5             5420    101930     1.0           0     0  ...     11   \n",
      "21            3050     44867     1.0           0     4  ...      9   \n",
      "49            2753     65005     1.0           1     2  ...      9   \n",
      "69            3200     20158     1.0           0     0  ...      8   \n",
      "125           2750     17789     1.5           0     0  ...      8   \n",
      "...            ...       ...     ...         ...   ...  ...    ...   \n",
      "21568         3830      8963     2.0           0     0  ...     10   \n",
      "21576         4850     10584     2.0           1     4  ...     10   \n",
      "21590         4910      9444     1.5           0     0  ...     11   \n",
      "21597         3410     10125     2.0           0     0  ...     10   \n",
      "21600         4470      8088     2.0           0     0  ...     11   \n",
      "\n",
      "       sqft_above  sqft_basement  yr_built  yr_renovated  zipcode      lat  \\\n",
      "5            3890           1530      2001             0    98053  47.6561   \n",
      "21           2330            720      1968             0    98040  47.5316   \n",
      "49           2165            588      1953             0    98070  47.4041   \n",
      "69           1600           1600      1965             0    98004  47.6303   \n",
      "125          1980            770      1914          1992    98004  47.6141   \n",
      "...           ...            ...       ...           ...      ...      ...   \n",
      "21568        3120            710      2014             0    98004  47.5990   \n",
      "21576        3540           1310      2007             0    98008  47.5943   \n",
      "21590        3110           1800      2007             0    98074  47.6502   \n",
      "21597        3410              0      2007             0    98040  47.5653   \n",
      "21600        4470              0      2008             0    98004  47.6321   \n",
      "\n",
      "          long  sqft_living15  sqft_lot15  \n",
      "5     -122.005           4760      101930  \n",
      "21    -122.233           4110       20336  \n",
      "49    -122.451           2680       72513  \n",
      "69    -122.215           3390       20158  \n",
      "125   -122.212           3060       11275  \n",
      "...        ...            ...         ...  \n",
      "21568 -122.197           2190       10777  \n",
      "21576 -122.110           3470       18270  \n",
      "21590 -122.066           4560       11063  \n",
      "21597 -122.223           2290       10125  \n",
      "21600 -122.200           2780        8964  \n",
      "\n",
      "[1146 rows x 21 columns]\n"
     ]
    }
   ],
   "source": [
    "#aykırı veri\n",
    "q1=df[\"price\"].quantile(0.25)\n",
    "q2=df[\"price\"].quantile(0.50) #medyan\n",
    "q3=df[\"price\"].quantile(0.75)\n",
    "\n",
    "range=q3-q1\n",
    "IQR=1.5 * range\n",
    "\n",
    "print(f\"INFO {q1},{q2},{q3},{IQR},{q3+IQR}\")\n",
    "\n",
    "print(\"OUTLİERS 1\")\n",
    "price_outliers=df[df[\"price\"] > q3 + IQR]\n",
    "print(price_outliers)\n"
   ]
  },
  {
   "cell_type": "code",
   "execution_count": 5,
   "metadata": {},
   "outputs": [
    {
     "data": {
      "image/png": "[encoded data removed]",
      "text/plain": [
       "<Figure size 432x288 with 1 Axes>"
      ]
     },
     "metadata": {
      "needs_background": "light"
     },
     "output_type": "display_data"
    }
   ],
   "source": [
    "plt.hist(df[\"price\"],bins=30)\n",
    "plt.show()"
   ]
  },
  {
   "cell_type": "code",
   "execution_count": 6,
   "metadata": {},
   "outputs": [],
   "source": [
    "mean=df[\"price\"].mean()\n",
    "std=df[\"price\"].std()"
   ]
  },
  {
   "cell_type": "code",
   "execution_count": 7,
   "metadata": {},
   "outputs": [
    {
     "name": "stdout",
     "output_type": "stream",
     "text": [
      "OUTLİERS 2\n",
      "               id             date      price  bedrooms  bathrooms  \\\n",
      "21     2524049179  20140826T000000  2000000.0         3       2.75   \n",
      "153    7855801670  20150401T000000  2250000.0         4       3.25   \n",
      "246    2025069065  20140929T000000  2400000.0         4       2.50   \n",
      "269    7960900060  20150504T000000  2900000.0         4       3.25   \n",
      "282    7424700045  20150513T000000  2050000.0         5       3.00   \n",
      "...           ...              ...        ...       ...        ...   \n",
      "21514  3262300818  20150227T000000  1865000.0         4       3.75   \n",
      "21530  8964800330  20150407T000000  3000000.0         4       3.75   \n",
      "21540   715010530  20150113T000000  1881580.0         5       3.50   \n",
      "21568   524059330  20150130T000000  1700000.0         4       3.50   \n",
      "21576  9253900271  20150107T000000  3567000.0         5       4.50   \n",
      "\n",
      "       sqft_living  sqft_lot  floors  waterfront  view  ...  grade  \\\n",
      "21            3050     44867     1.0           0     4  ...      9   \n",
      "153           5180     19850     2.0           0     3  ...     12   \n",
      "246           3650      8354     1.0           1     4  ...      9   \n",
      "269           5050     20100     1.5           0     2  ...     11   \n",
      "282           3830      8480     2.0           0     1  ...      9   \n",
      "...            ...       ...     ...         ...   ...  ...    ...   \n",
      "21514         3790      8797     2.0           0     0  ...     11   \n",
      "21530         5090     14823     1.0           0     0  ...     11   \n",
      "21540         4410     13000     2.0           0     3  ...     10   \n",
      "21568         3830      8963     2.0           0     0  ...     10   \n",
      "21576         4850     10584     2.0           1     4  ...     10   \n",
      "\n",
      "       sqft_above  sqft_basement  yr_built  yr_renovated  zipcode      lat  \\\n",
      "21           2330            720      1968             0    98040  47.5316   \n",
      "153          3540           1640      2006             0    98006  47.5620   \n",
      "246          1830           1820      2000             0    98074  47.6338   \n",
      "269          4750            300      1982          2008    98004  47.6312   \n",
      "282          2630           1200      1905          1994    98122  47.6166   \n",
      "...           ...            ...       ...           ...      ...      ...   \n",
      "21514        3290            500      2006             0    98039  47.6351   \n",
      "21530        4180            910      2013             0    98004  47.6200   \n",
      "21540        2920           1490      2014             0    98006  47.5382   \n",
      "21568        3120            710      2014             0    98004  47.5990   \n",
      "21576        3540           1310      2007             0    98008  47.5943   \n",
      "\n",
      "          long  sqft_living15  sqft_lot15  \n",
      "21    -122.233           4110       20336  \n",
      "153   -122.162           3160        9750  \n",
      "246   -122.072           3120       18841  \n",
      "269   -122.223           3890       20060  \n",
      "282   -122.287           3050        7556  \n",
      "...        ...            ...         ...  \n",
      "21514 -122.236           2660       12150  \n",
      "21530 -122.207           3030       12752  \n",
      "21540 -122.111           5790       12969  \n",
      "21568 -122.197           2190       10777  \n",
      "21576 -122.110           3470       18270  \n",
      "\n",
      "[406 rows x 21 columns]\n"
     ]
    }
   ],
   "source": [
    "limit=mean + 3 *std\n",
    "print(\"OUTLİERS 2\")\n",
    "#print(df[df[\"price\"] > limit])\n",
    "print(df[(df[\"price\"] > limit) & (df[\"price\"] > q3 + IQR)])\n"
   ]
  },
  {
   "cell_type": "code",
   "execution_count": 8,
   "metadata": {},
   "outputs": [
    {
     "name": "stdout",
     "output_type": "stream",
     "text": [
      "               id             date      price  bedrooms  bathrooms  \\\n",
      "5      7237550310  20140512T000000  1225000.0         4       4.50   \n",
      "153    7855801670  20150401T000000  2250000.0         4       3.25   \n",
      "269    7960900060  20150504T000000  2900000.0         4       3.25   \n",
      "270    4054500390  20141007T000000  1365000.0         4       4.75   \n",
      "419    8678500060  20140710T000000  1550000.0         5       4.25   \n",
      "...           ...              ...        ...       ...        ...   \n",
      "21520  7237550100  20140825T000000  1408760.0         4       4.00   \n",
      "21521  7430500110  20141209T000000  1378000.0         5       3.50   \n",
      "21530  8964800330  20150407T000000  3000000.0         4       3.75   \n",
      "21576  9253900271  20150107T000000  3567000.0         5       4.50   \n",
      "21590  7430200100  20140514T000000  1222500.0         4       3.50   \n",
      "\n",
      "       sqft_living  sqft_lot  floors  waterfront  view  ...  grade  \\\n",
      "5             5420    101930     1.0           0     0  ...     11   \n",
      "153           5180     19850     2.0           0     3  ...     12   \n",
      "269           5050     20100     1.5           0     2  ...     11   \n",
      "270           5310     57346     2.0           0     0  ...     11   \n",
      "419           6070    171626     2.0           0     0  ...     12   \n",
      "...            ...       ...     ...         ...   ...  ...    ...   \n",
      "21520         4920     50621     2.0           0     0  ...     10   \n",
      "21521         5150     12230     2.0           0     2  ...     10   \n",
      "21530         5090     14823     1.0           0     0  ...     11   \n",
      "21576         4850     10584     2.0           1     4  ...     10   \n",
      "21590         4910      9444     1.5           0     0  ...     11   \n",
      "\n",
      "       sqft_above  sqft_basement  yr_built  yr_renovated  zipcode      lat  \\\n",
      "5            3890           1530      2001             0    98053  47.6561   \n",
      "153          3540           1640      2006             0    98006  47.5620   \n",
      "269          4750            300      1982          2008    98004  47.6312   \n",
      "270          5310              0      1989             0    98077  47.7285   \n",
      "419          6070              0      1999             0    98024  47.5954   \n",
      "...           ...            ...       ...           ...      ...      ...   \n",
      "21520        4280            640      2012             0    98053  47.6575   \n",
      "21521        3700           1450      2007             0    98008  47.6249   \n",
      "21530        4180            910      2013             0    98004  47.6200   \n",
      "21576        3540           1310      2007             0    98008  47.5943   \n",
      "21590        3110           1800      2007             0    98074  47.6502   \n",
      "\n",
      "          long  sqft_living15  sqft_lot15  \n",
      "5     -122.005           4760      101930  \n",
      "153   -122.162           3160        9750  \n",
      "269   -122.223           3890       20060  \n",
      "270   -122.042           4180       47443  \n",
      "419   -121.950           4680      211267  \n",
      "...        ...            ...         ...  \n",
      "21520 -122.006           4920       74052  \n",
      "21521 -122.090           2940       13462  \n",
      "21530 -122.207           3030       12752  \n",
      "21576 -122.110           3470       18270  \n",
      "21590 -122.066           4560       11063  \n",
      "\n",
      "[248 rows x 21 columns]\n"
     ]
    }
   ],
   "source": [
    "mean=df[\"sqft_living\"].mean()\n",
    "std=df[\"sqft_living\"].std()\n",
    "\n",
    "print(df[df[\"sqft_living\"] > mean +std *3])"
   ]
  },
  {
   "cell_type": "code",
   "execution_count": 10,
   "metadata": {},
   "outputs": [
    {
     "ename": "KeyError",
     "evalue": "'price'",
     "output_type": "error",
     "traceback": [
      "\u001b[1;31m---------------------------------------------------------------------------\u001b[0m",
      "\u001b[1;31mKeyError\u001b[0m                                  Traceback (most recent call last)",
      "\u001b[1;32m~\\AppData\\Local\\Temp/ipykernel_7292/3478420435.py\u001b[0m in \u001b[0;36m<module>\u001b[1;34m\u001b[0m\n\u001b[0;32m      6\u001b[0m \u001b[1;32mfor\u001b[0m \u001b[0mc\u001b[0m \u001b[1;32min\u001b[0m \u001b[0mdf\u001b[0m\u001b[1;33m:\u001b[0m\u001b[1;33m\u001b[0m\u001b[1;33m\u001b[0m\u001b[0m\n\u001b[0;32m      7\u001b[0m     \u001b[1;32mif\u001b[0m \u001b[0mstr\u001b[0m\u001b[1;33m(\u001b[0m\u001b[0mdf\u001b[0m\u001b[1;33m.\u001b[0m\u001b[0mdtypes\u001b[0m\u001b[1;33m[\u001b[0m\u001b[0mc\u001b[0m\u001b[1;33m]\u001b[0m\u001b[1;33m)\u001b[0m \u001b[1;32min\u001b[0m \u001b[1;33m[\u001b[0m\u001b[1;34m\"int64\"\u001b[0m\u001b[1;33m,\u001b[0m\u001b[1;34m\"float64\"\u001b[0m\u001b[1;33m]\u001b[0m \u001b[1;32mand\u001b[0m \u001b[0mc\u001b[0m \u001b[1;33m!=\u001b[0m\u001b[1;34m\"id\"\u001b[0m\u001b[1;33m:\u001b[0m\u001b[1;33m\u001b[0m\u001b[1;33m\u001b[0m\u001b[0m\n\u001b[1;32m----> 8\u001b[1;33m         \u001b[0mdf\u001b[0m\u001b[1;33m[\u001b[0m\u001b[0mc\u001b[0m\u001b[1;33m]\u001b[0m\u001b[1;33m=\u001b[0m\u001b[0mdf\u001b[0m\u001b[1;33m[\u001b[0m\u001b[0mc\u001b[0m\u001b[1;33m]\u001b[0m\u001b[1;33m.\u001b[0m\u001b[0mapply\u001b[0m\u001b[1;33m(\u001b[0m\u001b[1;32mlambda\u001b[0m \u001b[0mvalue\u001b[0m\u001b[1;33m:\u001b[0m \u001b[0misOutlier\u001b[0m\u001b[1;33m(\u001b[0m\u001b[0mmeans\u001b[0m\u001b[1;33m[\u001b[0m\u001b[0mc\u001b[0m\u001b[1;33m]\u001b[0m\u001b[1;33m,\u001b[0m\u001b[0mstds\u001b[0m\u001b[1;33m[\u001b[0m\u001b[0mc\u001b[0m\u001b[1;33m]\u001b[0m\u001b[1;33m,\u001b[0m\u001b[0mvalue\u001b[0m\u001b[1;33m)\u001b[0m\u001b[1;33m)\u001b[0m\u001b[1;33m\u001b[0m\u001b[1;33m\u001b[0m\u001b[0m\n\u001b[0m\u001b[0;32m      9\u001b[0m         \u001b[0mdf\u001b[0m\u001b[1;33m[\u001b[0m\u001b[0mc\u001b[0m\u001b[1;33m]\u001b[0m\u001b[1;33m=\u001b[0m\u001b[0mdf\u001b[0m\u001b[1;33m[\u001b[0m\u001b[0mc\u001b[0m\u001b[1;33m]\u001b[0m\u001b[1;33m.\u001b[0m\u001b[0mastype\u001b[0m\u001b[1;33m(\u001b[0m\u001b[0mint\u001b[0m\u001b[1;33m)\u001b[0m\u001b[1;33m\u001b[0m\u001b[1;33m\u001b[0m\u001b[0m\n\u001b[0;32m     10\u001b[0m \u001b[1;33m\u001b[0m\u001b[0m\n",
      "\u001b[1;32mc:\\Users\\ege_s\\anaconda3\\lib\\site-packages\\pandas\\core\\series.py\u001b[0m in \u001b[0;36mapply\u001b[1;34m(self, func, convert_dtype, args, **kwargs)\u001b[0m\n\u001b[0;32m   4355\u001b[0m         \u001b[0mdtype\u001b[0m\u001b[1;33m:\u001b[0m \u001b[0mfloat64\u001b[0m\u001b[1;33m\u001b[0m\u001b[1;33m\u001b[0m\u001b[0m\n\u001b[0;32m   4356\u001b[0m         \"\"\"\n\u001b[1;32m-> 4357\u001b[1;33m         \u001b[1;32mreturn\u001b[0m \u001b[0mSeriesApply\u001b[0m\u001b[1;33m(\u001b[0m\u001b[0mself\u001b[0m\u001b[1;33m,\u001b[0m \u001b[0mfunc\u001b[0m\u001b[1;33m,\u001b[0m \u001b[0mconvert_dtype\u001b[0m\u001b[1;33m,\u001b[0m \u001b[0margs\u001b[0m\u001b[1;33m,\u001b[0m \u001b[0mkwargs\u001b[0m\u001b[1;33m)\u001b[0m\u001b[1;33m.\u001b[0m\u001b[0mapply\u001b[0m\u001b[1;33m(\u001b[0m\u001b[1;33m)\u001b[0m\u001b[1;33m\u001b[0m\u001b[1;33m\u001b[0m\u001b[0m\n\u001b[0m\u001b[0;32m   4358\u001b[0m \u001b[1;33m\u001b[0m\u001b[0m\n\u001b[0;32m   4359\u001b[0m     def _reduce(\n",
      "\u001b[1;32mc:\\Users\\ege_s\\anaconda3\\lib\\site-packages\\pandas\\core\\apply.py\u001b[0m in \u001b[0;36mapply\u001b[1;34m(self)\u001b[0m\n\u001b[0;32m   1041\u001b[0m             \u001b[1;32mreturn\u001b[0m \u001b[0mself\u001b[0m\u001b[1;33m.\u001b[0m\u001b[0mapply_str\u001b[0m\u001b[1;33m(\u001b[0m\u001b[1;33m)\u001b[0m\u001b[1;33m\u001b[0m\u001b[1;33m\u001b[0m\u001b[0m\n\u001b[0;32m   1042\u001b[0m \u001b[1;33m\u001b[0m\u001b[0m\n\u001b[1;32m-> 1043\u001b[1;33m         \u001b[1;32mreturn\u001b[0m \u001b[0mself\u001b[0m\u001b[1;33m.\u001b[0m\u001b[0mapply_standard\u001b[0m\u001b[1;33m(\u001b[0m\u001b[1;33m)\u001b[0m\u001b[1;33m\u001b[0m\u001b[1;33m\u001b[0m\u001b[0m\n\u001b[0m\u001b[0;32m   1044\u001b[0m \u001b[1;33m\u001b[0m\u001b[0m\n\u001b[0;32m   1045\u001b[0m     \u001b[1;32mdef\u001b[0m \u001b[0magg\u001b[0m\u001b[1;33m(\u001b[0m\u001b[0mself\u001b[0m\u001b[1;33m)\u001b[0m\u001b[1;33m:\u001b[0m\u001b[1;33m\u001b[0m\u001b[1;33m\u001b[0m\u001b[0m\n",
      "\u001b[1;32mc:\\Users\\ege_s\\anaconda3\\lib\\site-packages\\pandas\\core\\apply.py\u001b[0m in \u001b[0;36mapply_standard\u001b[1;34m(self)\u001b[0m\n\u001b[0;32m   1096\u001b[0m                 \u001b[1;31m# List[Union[Callable[..., Any], str]]]]]\"; expected\u001b[0m\u001b[1;33m\u001b[0m\u001b[1;33m\u001b[0m\u001b[0m\n\u001b[0;32m   1097\u001b[0m                 \u001b[1;31m# \"Callable[[Any], Any]\"\u001b[0m\u001b[1;33m\u001b[0m\u001b[1;33m\u001b[0m\u001b[0m\n\u001b[1;32m-> 1098\u001b[1;33m                 mapped = lib.map_infer(\n\u001b[0m\u001b[0;32m   1099\u001b[0m                     \u001b[0mvalues\u001b[0m\u001b[1;33m,\u001b[0m\u001b[1;33m\u001b[0m\u001b[1;33m\u001b[0m\u001b[0m\n\u001b[0;32m   1100\u001b[0m                     \u001b[0mf\u001b[0m\u001b[1;33m,\u001b[0m  \u001b[1;31m# type: ignore[arg-type]\u001b[0m\u001b[1;33m\u001b[0m\u001b[1;33m\u001b[0m\u001b[0m\n",
      "\u001b[1;32mc:\\Users\\ege_s\\anaconda3\\lib\\site-packages\\pandas\\_libs\\lib.pyx\u001b[0m in \u001b[0;36mpandas._libs.lib.map_infer\u001b[1;34m()\u001b[0m\n",
      "\u001b[1;32m~\\AppData\\Local\\Temp/ipykernel_7292/3478420435.py\u001b[0m in \u001b[0;36m<lambda>\u001b[1;34m(value)\u001b[0m\n\u001b[0;32m      6\u001b[0m \u001b[1;32mfor\u001b[0m \u001b[0mc\u001b[0m \u001b[1;32min\u001b[0m \u001b[0mdf\u001b[0m\u001b[1;33m:\u001b[0m\u001b[1;33m\u001b[0m\u001b[1;33m\u001b[0m\u001b[0m\n\u001b[0;32m      7\u001b[0m     \u001b[1;32mif\u001b[0m \u001b[0mstr\u001b[0m\u001b[1;33m(\u001b[0m\u001b[0mdf\u001b[0m\u001b[1;33m.\u001b[0m\u001b[0mdtypes\u001b[0m\u001b[1;33m[\u001b[0m\u001b[0mc\u001b[0m\u001b[1;33m]\u001b[0m\u001b[1;33m)\u001b[0m \u001b[1;32min\u001b[0m \u001b[1;33m[\u001b[0m\u001b[1;34m\"int64\"\u001b[0m\u001b[1;33m,\u001b[0m\u001b[1;34m\"float64\"\u001b[0m\u001b[1;33m]\u001b[0m \u001b[1;32mand\u001b[0m \u001b[0mc\u001b[0m \u001b[1;33m!=\u001b[0m\u001b[1;34m\"id\"\u001b[0m\u001b[1;33m:\u001b[0m\u001b[1;33m\u001b[0m\u001b[1;33m\u001b[0m\u001b[0m\n\u001b[1;32m----> 8\u001b[1;33m         \u001b[0mdf\u001b[0m\u001b[1;33m[\u001b[0m\u001b[0mc\u001b[0m\u001b[1;33m]\u001b[0m\u001b[1;33m=\u001b[0m\u001b[0mdf\u001b[0m\u001b[1;33m[\u001b[0m\u001b[0mc\u001b[0m\u001b[1;33m]\u001b[0m\u001b[1;33m.\u001b[0m\u001b[0mapply\u001b[0m\u001b[1;33m(\u001b[0m\u001b[1;32mlambda\u001b[0m \u001b[0mvalue\u001b[0m\u001b[1;33m:\u001b[0m \u001b[0misOutlier\u001b[0m\u001b[1;33m(\u001b[0m\u001b[0mmeans\u001b[0m\u001b[1;33m[\u001b[0m\u001b[0mc\u001b[0m\u001b[1;33m]\u001b[0m\u001b[1;33m,\u001b[0m\u001b[0mstds\u001b[0m\u001b[1;33m[\u001b[0m\u001b[0mc\u001b[0m\u001b[1;33m]\u001b[0m\u001b[1;33m,\u001b[0m\u001b[0mvalue\u001b[0m\u001b[1;33m)\u001b[0m\u001b[1;33m)\u001b[0m\u001b[1;33m\u001b[0m\u001b[1;33m\u001b[0m\u001b[0m\n\u001b[0m\u001b[0;32m      9\u001b[0m         \u001b[0mdf\u001b[0m\u001b[1;33m[\u001b[0m\u001b[0mc\u001b[0m\u001b[1;33m]\u001b[0m\u001b[1;33m=\u001b[0m\u001b[0mdf\u001b[0m\u001b[1;33m[\u001b[0m\u001b[0mc\u001b[0m\u001b[1;33m]\u001b[0m\u001b[1;33m.\u001b[0m\u001b[0mastype\u001b[0m\u001b[1;33m(\u001b[0m\u001b[0mint\u001b[0m\u001b[1;33m)\u001b[0m\u001b[1;33m\u001b[0m\u001b[1;33m\u001b[0m\u001b[0m\n\u001b[0;32m     10\u001b[0m \u001b[1;33m\u001b[0m\u001b[0m\n",
      "\u001b[1;31mKeyError\u001b[0m: 'price'"
     ]
    }
   ],
   "source": [
    "def isOutlier(mean,std,value):\n",
    "    return value > mean + 3 * std\n",
    "    #return (value-mean) / std\n",
    "\n",
    "means={}\n",
    "stds={}\n",
    "for c in df:\n",
    "    if str(df.dtypes[c]) in [\"int64\",\"float64\"] and c !=\"id\":\n",
    "        df[c]=df[c].apply(lambda value: isOutlier(means[c],stds[c],value))\n",
    "        df[c]=df[c].astype(int)\n",
    "\n",
    "columns=[]  \n",
    "df2=df.copy()      \n",
    "for c in df:\n",
    "    if str(df.dtypes[c]) in [\"int64\",\"float64\"] and c !=\"id\":\n",
    "        columns.append(c)\n",
    "        df[c]=df[c].apply(lambda value: isOutlier(means[c],stds[c],value))\n",
    "        df[c]=df[c].astype(int)        \n",
    "\n",
    "df2[\"sum\"]=df[columns].sum(axis=1)\n",
    "df2=df[[\"id\",\"sum\"]]\n",
    "sums=dict(zip(df2[\"id\"],df2[\"sum\"]))\n",
    "\n",
    "print(sums)\n",
    "\n",
    "print(df)\n",
    "df2.to_csv(\"isanomaly.csv\")        "
   ]
  },
  {
   "cell_type": "code",
   "execution_count": 11,
   "metadata": {},
   "outputs": [
    {
     "ename": "NameError",
     "evalue": "name 'sums' is not defined",
     "output_type": "error",
     "traceback": [
      "\u001b[1;31m---------------------------------------------------------------------------\u001b[0m",
      "\u001b[1;31mNameError\u001b[0m                                 Traceback (most recent call last)",
      "\u001b[1;32m~\\AppData\\Local\\Temp/ipykernel_7292/317004787.py\u001b[0m in \u001b[0;36m<module>\u001b[1;34m\u001b[0m\n\u001b[1;32m----> 1\u001b[1;33m \u001b[0mdf\u001b[0m\u001b[1;33m[\u001b[0m\u001b[1;34m\"anomalycount\"\u001b[0m\u001b[1;33m]\u001b[0m\u001b[1;33m=\u001b[0m\u001b[0mdf\u001b[0m\u001b[1;33m[\u001b[0m\u001b[1;34m\"id\"\u001b[0m\u001b[1;33m]\u001b[0m\u001b[1;33m.\u001b[0m\u001b[0mmap\u001b[0m\u001b[1;33m(\u001b[0m\u001b[0msums\u001b[0m\u001b[1;33m)\u001b[0m\u001b[1;33m\u001b[0m\u001b[1;33m\u001b[0m\u001b[0m\n\u001b[0m\u001b[0;32m      2\u001b[0m \u001b[0mdf\u001b[0m\u001b[1;33m.\u001b[0m\u001b[0mto_csv\u001b[0m\u001b[1;33m(\u001b[0m\u001b[1;34m\"anomaly.csv\"\u001b[0m\u001b[1;33m)\u001b[0m\u001b[1;33m\u001b[0m\u001b[1;33m\u001b[0m\u001b[0m\n",
      "\u001b[1;31mNameError\u001b[0m: name 'sums' is not defined"
     ]
    }
   ],
   "source": [
    "df[\"anomalycount\"]=df[\"id\"].map(sums)\n",
    "df=df[df[\"anomalycount\"] < 5]\n",
    "\n",
    "df.to_csv(\"anomaly.csv\")"
   ]
  },
  {
   "cell_type": "code",
   "execution_count": null,
   "metadata": {},
   "outputs": [],
   "source": [
    "#z=(x-mean)/std #z skoru\n",
    "\n",
    "df[\"price_z\"]=(df[\"price\"] -df[\"price\"].mean())/df[\"price\"].std() "
   ]
  },
  {
   "cell_type": "code",
   "execution_count": null,
   "metadata": {},
   "outputs": [],
   "source": [
    "from sklearn import svm\n",
    "clf=svm.OneClassSVM(nu=0.1,kernel=\"rbf\",gamma=0.1)\n",
    "X=df[columns]\n",
    "clf.fit(X)\n"
   ]
  },
  {
   "cell_type": "code",
   "execution_count": null,
   "metadata": {},
   "outputs": [],
   "source": [
    "#Not:anomaly detection unsupervised dır.\n",
    "\n",
    "from sklearn.ensemble import IsolationForest\n",
    "clf=IsolationForest(n_estimators=10,warm_start=True)\n",
    "X=df[columns]\n",
    "clf.fit(X)\n",
    "\n",
    "X[\"says_anormal\"]=clf.predict(X)\n",
    "df.to_csv(\"isolationforest.csv\")"
   ]
  },
  {
   "cell_type": "code",
   "execution_count": null,
   "metadata": {},
   "outputs": [],
   "source": [
    "from sklearn.neighbors import LocalOutlierFactor\n",
    "clf=LocalOutlierFactor(n_neighbors=2)\n",
    "X=df[columns]\n",
    "X[\"says_anormal\"]=clf.fit_predict(X)\n",
    "df.to_csv(\"isolationforest.csv\")"
   ]
  },
  {
   "cell_type": "code",
   "execution_count": null,
   "metadata": {},
   "outputs": [],
   "source": [
    "from sklearn.decomposition import PCA\n",
    "pca=PCA(n_components=5)\n",
    "X=df[columns]\n",
    "\n",
    "avgs=[]\n",
    "for c in X.columns:\n",
    "    avgs.append(X[c].mean())\n",
    "print(avgs)    \n",
    "\n",
    "pca.fit(X)\n",
    "\n",
    "result=pca.transform([avgs]) #ortalaması,Normali \n",
    "print(list(result[0]))\n",
    "\n",
    "print(pca.explained_variance_ratio_)\n",
    "\n",
    "\n",
    "Transformed=pca.transform(X)\n",
    "transformed=pd.DataFrame(Transformed)\n",
    "transformed.to_csv(\"transformed.csv\")"
   ]
  }
 ],
 "metadata": {
  "interpreter": {
   "hash": "674b85256a40daafffc9ddabe7c6f2388d6ad7f9159c7c71942556fc12fa085c"
  },
  "kernelspec": {
   "display_name": "Python 3.9.7 ('base')",
   "language": "python",
   "name": "python3"
  },
  "language_info": {
   "codemirror_mode": {
    "name": "ipython",
    "version": 3
   },
   "file_extension": ".py",
   "mimetype": "text/x-python",
   "name": "python",
   "nbconvert_exporter": "python",
   "pygments_lexer": "ipython3",
   "version": "3.9.7"
  },
  "orig_nbformat": 4
 },
 "nbformat": 4,
 "nbformat_minor": 2
}
